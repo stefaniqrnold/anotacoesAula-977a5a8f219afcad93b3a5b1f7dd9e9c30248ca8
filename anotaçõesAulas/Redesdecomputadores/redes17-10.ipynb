{
 "cells": [
  {
   "cell_type": "markdown",
   "metadata": {},
   "source": [
    "## Aula 17/10/2024\n",
    "\n",
    "### Redes de Computadores\n",
    "\n",
    "### Retomando\n",
    "\n",
    "- Reset Default\n",
    "- Configuração do equipamento:\n",
    "  - Pegar IP na ETH1\n",
    "  - Fornecer IP na ETH2\n",
    "  - Navegar na Internet\n",
    "  - Atualizar Firmware\n",
    "  - Bloquear Sites\n",
    "\n",
    "---"
   ]
  },
  {
   "cell_type": "markdown",
   "metadata": {},
   "source": [
    "### Objetivos de Hoje\n",
    "\n",
    "- Em 2 redes distintas /24, vamos configurar o DHCP nas portas ETH2 e ETH3, onde cada porta distribua endereços devidamente separados.\n",
    "- Fazer com que ambas as redes consigam navegar na Internet.\n",
    "- Realizar um bloqueio de Firewall:\n",
    "  - Na Rede 1, bloquear o site da **UFSM**.\n",
    "  - Na Rede 2, bloquear o site do **Terra**.\n",
    "- Realizar limitação de tráfego de rede.\n",
    "\n",
    "---\n",
    "\n",
    "### Queues\n",
    "\n",
    "- Teste de velocidade com controle de banda ativo.\n",
    "- Monitoramento em tempo real.\n",
    "\n",
    "### Configuração de Endereços\n",
    "\n",
    "- Para a ETH2, adotar um endereço Classe C, iniciando com **192.168.x.x**.\n",
    "- Para a ETH3, adotar um endereço Classe C, diferente da anterior.\n",
    "- Limitar a **3Mbps** para computadores da ETH2 e **5Mbps** para computadores da ETH3.\n",
    "\n",
    "---\n"
   ]
  },
  {
   "cell_type": "markdown",
   "metadata": {},
   "source": [
    "## Exercício Prático\n",
    "\n",
    "- Executar `tracert` na **Rede 1**.\n",
    "- Executar `tracert` na **Rede 2**.\n",
    "\n",
    "### Usando o Mesmo Escopo de DHCP em Duas Portas\n",
    "\n",
    "1. Criar uma **Bridge** (ponte).\n",
    "2. Vincular as portas à **Bridge**.\n",
    "3. Configurar o servidor **DHCP** para buscar conexão na **Bridge**.\n",
    "\n",
    "---\n",
    "\n",
    "### Passos para Configuração\n",
    "\n",
    "Ao final da aula, você deve ter realizado os seguintes passos:\n",
    "\n",
    "1. Reset da RB.\n",
    "2. Fazer o equipamento navegar na Internet.\n",
    "3. Configurar dois serviços de DHCP nas portas **ETH2** e **ETH3**.\n",
    "4. Verificar se ambas as portas estão navegáveis na Internet.\n",
    "   - Testar com o comando: `tracert 8.8.8.8`.\n",
    "5. Controlar a velocidade nas duas redes, conforme as velocidades definidas.\n",
    "6. Entender o funcionamento de uma **Bridge** e em que casos ela pode ser utilizada.\n",
    "\n",
    "Se todos os passos forem alcançados, **Parabéns, sua aula de hoje acabou!**\n",
    "\n",
    "192.168.0.1/24\n",
    "192.168.1.0/24"
   ]
  }
 ],
 "metadata": {
  "language_info": {
   "name": "python"
  }
 },
 "nbformat": 4,
 "nbformat_minor": 2
}
