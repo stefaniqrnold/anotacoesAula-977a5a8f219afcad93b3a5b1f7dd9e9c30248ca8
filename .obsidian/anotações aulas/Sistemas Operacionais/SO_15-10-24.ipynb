{
 "cells": [
  {
   "cell_type": "markdown",
   "metadata": {},
   "source": [
    "# **Aula 15/10/2024**\n",
    "\n",
    "## Introdução à gerencia de arquivos\n",
    "\n"
   ]
  }
 ],
 "metadata": {
  "language_info": {
   "name": "python"
  }
 },
 "nbformat": 4,
 "nbformat_minor": 2
}
